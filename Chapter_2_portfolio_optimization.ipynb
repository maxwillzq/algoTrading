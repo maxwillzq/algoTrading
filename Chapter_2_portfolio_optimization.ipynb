{
  "nbformat": 4,
  "nbformat_minor": 0,
  "metadata": {
    "colab": {
      "name": "Chapter_2_portfolio_optimization.ipynb",
      "provenance": [],
      "collapsed_sections": [],
      "toc_visible": true,
      "include_colab_link": true
    },
    "kernelspec": {
      "name": "python3",
      "display_name": "Python 3"
    }
  },
  "cells": [
    {
      "cell_type": "markdown",
      "metadata": {
        "id": "view-in-github",
        "colab_type": "text"
      },
      "source": [
        "<a href=\"https://colab.research.google.com/github/maxwillzq/algoTrading/blob/main/Chapter_2_portfolio_optimization.ipynb\" target=\"_parent\"><img src=\"https://colab.research.google.com/assets/colab-badge.svg\" alt=\"Open In Colab\"/></a>"
      ]
    },
    {
      "cell_type": "markdown",
      "metadata": {
        "id": "8uM_VEGRu2O9"
      },
      "source": [
        "# Portfolio Optimization and Algorithmic Trading"
      ]
    },
    {
      "cell_type": "markdown",
      "metadata": {
        "id": "8kdijMXloeeL"
      },
      "source": [
        "## install software"
      ]
    },
    {
      "cell_type": "code",
      "metadata": {
        "colab": {
          "base_uri": "https://localhost:8080/"
        },
        "id": "A5FZMPqeoglP",
        "outputId": "43bffca1-41b5-4e59-a8e0-6a2c82d9731d"
      },
      "source": [
        "!pip install git+https://github.com/maxwillzq/algoTrading.git"
      ],
      "execution_count": 1,
      "outputs": [
        {
          "output_type": "stream",
          "text": [
            "Collecting git+https://github.com/maxwillzq/algoTrading.git\n",
            "  Cloning https://github.com/maxwillzq/algoTrading.git to /tmp/pip-req-build-biaqobsx\n",
            "  Running command git clone -q https://github.com/maxwillzq/algoTrading.git /tmp/pip-req-build-biaqobsx\n",
            "Requirement already satisfied: pandas in /usr/local/lib/python3.7/dist-packages (from algotrading==0.0.3) (1.1.5)\n",
            "Requirement already satisfied: pandas_datareader in /usr/local/lib/python3.7/dist-packages (from algotrading==0.0.3) (0.9.0)\n",
            "Requirement already satisfied: matplotlib in /usr/local/lib/python3.7/dist-packages (from algotrading==0.0.3) (3.2.2)\n",
            "Requirement already satisfied: seaborn in /usr/local/lib/python3.7/dist-packages (from algotrading==0.0.3) (0.11.1)\n",
            "Collecting datetime\n",
            "\u001b[?25l  Downloading https://files.pythonhosted.org/packages/73/22/a5297f3a1f92468cc737f8ce7ba6e5f245fcfafeae810ba37bd1039ea01c/DateTime-4.3-py2.py3-none-any.whl (60kB)\n",
            "\u001b[K     |████████████████████████████████| 61kB 3.0MB/s \n",
            "\u001b[?25hRequirement already satisfied: numpy in /usr/local/lib/python3.7/dist-packages (from algotrading==0.0.3) (1.19.5)\n",
            "Collecting mplfinance\n",
            "\u001b[?25l  Downloading https://files.pythonhosted.org/packages/d2/9b/802468e3fda986958c185fecb009d8e52f147907cc9a52baf4abef8e1772/mplfinance-0.12.7a7-py3-none-any.whl (58kB)\n",
            "\u001b[K     |████████████████████████████████| 61kB 3.6MB/s \n",
            "\u001b[?25hCollecting pypandoc\n",
            "  Downloading https://files.pythonhosted.org/packages/d6/b7/5050dc1769c8a93d3ec7c4bd55be161991c94b8b235f88bf7c764449e708/pypandoc-1.5.tar.gz\n",
            "Requirement already satisfied: pytz>=2017.2 in /usr/local/lib/python3.7/dist-packages (from pandas->algotrading==0.0.3) (2018.9)\n",
            "Requirement already satisfied: python-dateutil>=2.7.3 in /usr/local/lib/python3.7/dist-packages (from pandas->algotrading==0.0.3) (2.8.1)\n",
            "Requirement already satisfied: requests>=2.19.0 in /usr/local/lib/python3.7/dist-packages (from pandas_datareader->algotrading==0.0.3) (2.23.0)\n",
            "Requirement already satisfied: lxml in /usr/local/lib/python3.7/dist-packages (from pandas_datareader->algotrading==0.0.3) (4.2.6)\n",
            "Requirement already satisfied: pyparsing!=2.0.4,!=2.1.2,!=2.1.6,>=2.0.1 in /usr/local/lib/python3.7/dist-packages (from matplotlib->algotrading==0.0.3) (2.4.7)\n",
            "Requirement already satisfied: cycler>=0.10 in /usr/local/lib/python3.7/dist-packages (from matplotlib->algotrading==0.0.3) (0.10.0)\n",
            "Requirement already satisfied: kiwisolver>=1.0.1 in /usr/local/lib/python3.7/dist-packages (from matplotlib->algotrading==0.0.3) (1.3.1)\n",
            "Requirement already satisfied: scipy>=1.0 in /usr/local/lib/python3.7/dist-packages (from seaborn->algotrading==0.0.3) (1.4.1)\n",
            "Collecting zope.interface\n",
            "\u001b[?25l  Downloading https://files.pythonhosted.org/packages/f8/42/d8f11eaef844bee267821281fffe445e49cf31b486d72a81821a9d45cd0a/zope.interface-5.2.0-cp37-cp37m-manylinux2010_x86_64.whl (237kB)\n",
            "\u001b[K     |████████████████████████████████| 245kB 7.0MB/s \n",
            "\u001b[?25hRequirement already satisfied: setuptools in /usr/local/lib/python3.7/dist-packages (from pypandoc->algotrading==0.0.3) (54.0.0)\n",
            "Requirement already satisfied: pip>=8.1.0 in /usr/local/lib/python3.7/dist-packages (from pypandoc->algotrading==0.0.3) (19.3.1)\n",
            "Requirement already satisfied: wheel>=0.25.0 in /usr/local/lib/python3.7/dist-packages (from pypandoc->algotrading==0.0.3) (0.36.2)\n",
            "Requirement already satisfied: six>=1.5 in /usr/local/lib/python3.7/dist-packages (from python-dateutil>=2.7.3->pandas->algotrading==0.0.3) (1.15.0)\n",
            "Requirement already satisfied: idna<3,>=2.5 in /usr/local/lib/python3.7/dist-packages (from requests>=2.19.0->pandas_datareader->algotrading==0.0.3) (2.10)\n",
            "Requirement already satisfied: chardet<4,>=3.0.2 in /usr/local/lib/python3.7/dist-packages (from requests>=2.19.0->pandas_datareader->algotrading==0.0.3) (3.0.4)\n",
            "Requirement already satisfied: urllib3!=1.25.0,!=1.25.1,<1.26,>=1.21.1 in /usr/local/lib/python3.7/dist-packages (from requests>=2.19.0->pandas_datareader->algotrading==0.0.3) (1.24.3)\n",
            "Requirement already satisfied: certifi>=2017.4.17 in /usr/local/lib/python3.7/dist-packages (from requests>=2.19.0->pandas_datareader->algotrading==0.0.3) (2020.12.5)\n",
            "Building wheels for collected packages: algotrading, pypandoc\n",
            "  Building wheel for algotrading (setup.py) ... \u001b[?25l\u001b[?25hdone\n",
            "  Created wheel for algotrading: filename=algotrading-0.0.3-cp37-none-any.whl size=25381 sha256=fd9181a1129ab4d2e410cb2f246feddc2880924ba6a7a2638c91d1bea5334875\n",
            "  Stored in directory: /tmp/pip-ephem-wheel-cache-c0t1aqvh/wheels/da/aa/a0/a6d9eef8a1b8f93f71a30d79de070f52e3c2d0f1398d1ddcdf\n",
            "  Building wheel for pypandoc (setup.py) ... \u001b[?25l\u001b[?25hdone\n",
            "  Created wheel for pypandoc: filename=pypandoc-1.5-cp37-none-any.whl size=17036 sha256=bd2457d08b5cb22bf02791ad9eff4d29fd67d15a9c947c7908c3c5f9edd483c7\n",
            "  Stored in directory: /root/.cache/pip/wheels/bb/7d/d6/2f9af55e800d37e42e546106bcbd36a86e24e725e303d17e04\n",
            "Successfully built algotrading pypandoc\n",
            "Installing collected packages: zope.interface, datetime, mplfinance, pypandoc, algotrading\n",
            "Successfully installed algotrading-0.0.3 datetime-4.3 mplfinance-0.12.7a7 pypandoc-1.5 zope.interface-5.2.0\n"
          ],
          "name": "stdout"
        }
      ]
    },
    {
      "cell_type": "markdown",
      "metadata": {
        "id": "hKhY2AKSidJE"
      },
      "source": [
        "# Select stock from stock table\n",
        "\n",
        "Step 1: choose **stock**"
      ]
    },
    {
      "cell_type": "code",
      "metadata": {
        "id": "B3axwP4QCmOt"
      },
      "source": [
        "import algotrading\n",
        "import matplotlib.pyplot as plt\n",
        "import pandas as pd\n",
        "import numpy as np\n",
        "import datetime as dt"
      ],
      "execution_count": 19,
      "outputs": []
    },
    {
      "cell_type": "code",
      "metadata": {
        "id": "cNQyznM2CW20"
      },
      "source": [
        "test = {}\n",
        "stock_name_list  = [\"BABA\", \"TSM\", \"PDD\"]\n",
        "end = end = dt.datetime.now()\n",
        "start = start =  end - dt.timedelta(3000)\n",
        "for stock_name in stock_name_list:\n",
        "  stock = algotrading.stock.Stock(stock_name)\n",
        "  stock.read_data(start, end)\n",
        "  test[stock_name] = stock.df['Close']\n",
        "test = pd.DataFrame(test)"
      ],
      "execution_count": 30,
      "outputs": []
    },
    {
      "cell_type": "code",
      "metadata": {
        "id": "1AILiZWi7Vpz",
        "colab": {
          "base_uri": "https://localhost:8080/",
          "height": 450
        },
        "outputId": "8605ef1b-679f-476d-d07f-2cc881dc8e46"
      },
      "source": [
        "test"
      ],
      "execution_count": 31,
      "outputs": [
        {
          "output_type": "execute_result",
          "data": {
            "text/html": [
              "<div>\n",
              "<style scoped>\n",
              "    .dataframe tbody tr th:only-of-type {\n",
              "        vertical-align: middle;\n",
              "    }\n",
              "\n",
              "    .dataframe tbody tr th {\n",
              "        vertical-align: top;\n",
              "    }\n",
              "\n",
              "    .dataframe thead th {\n",
              "        text-align: right;\n",
              "    }\n",
              "</style>\n",
              "<table border=\"1\" class=\"dataframe\">\n",
              "  <thead>\n",
              "    <tr style=\"text-align: right;\">\n",
              "      <th></th>\n",
              "      <th>BABA</th>\n",
              "      <th>TSM</th>\n",
              "      <th>PDD</th>\n",
              "    </tr>\n",
              "    <tr>\n",
              "      <th>Date</th>\n",
              "      <th></th>\n",
              "      <th></th>\n",
              "      <th></th>\n",
              "    </tr>\n",
              "  </thead>\n",
              "  <tbody>\n",
              "    <tr>\n",
              "      <th>2012-12-26</th>\n",
              "      <td>NaN</td>\n",
              "      <td>16.920000</td>\n",
              "      <td>NaN</td>\n",
              "    </tr>\n",
              "    <tr>\n",
              "      <th>2012-12-27</th>\n",
              "      <td>NaN</td>\n",
              "      <td>16.980000</td>\n",
              "      <td>NaN</td>\n",
              "    </tr>\n",
              "    <tr>\n",
              "      <th>2012-12-28</th>\n",
              "      <td>NaN</td>\n",
              "      <td>17.129999</td>\n",
              "      <td>NaN</td>\n",
              "    </tr>\n",
              "    <tr>\n",
              "      <th>2012-12-31</th>\n",
              "      <td>NaN</td>\n",
              "      <td>17.160000</td>\n",
              "      <td>NaN</td>\n",
              "    </tr>\n",
              "    <tr>\n",
              "      <th>2013-01-02</th>\n",
              "      <td>NaN</td>\n",
              "      <td>18.100000</td>\n",
              "      <td>NaN</td>\n",
              "    </tr>\n",
              "    <tr>\n",
              "      <th>...</th>\n",
              "      <td>...</td>\n",
              "      <td>...</td>\n",
              "      <td>...</td>\n",
              "    </tr>\n",
              "    <tr>\n",
              "      <th>2021-03-08</th>\n",
              "      <td>226.690002</td>\n",
              "      <td>113.930000</td>\n",
              "      <td>137.600006</td>\n",
              "    </tr>\n",
              "    <tr>\n",
              "      <th>2021-03-09</th>\n",
              "      <td>238.139999</td>\n",
              "      <td>116.379997</td>\n",
              "      <td>154.179993</td>\n",
              "    </tr>\n",
              "    <tr>\n",
              "      <th>2021-03-10</th>\n",
              "      <td>234.300003</td>\n",
              "      <td>113.830002</td>\n",
              "      <td>148.139999</td>\n",
              "    </tr>\n",
              "    <tr>\n",
              "      <th>2021-03-11</th>\n",
              "      <td>240.800003</td>\n",
              "      <td>120.580002</td>\n",
              "      <td>162.399994</td>\n",
              "    </tr>\n",
              "    <tr>\n",
              "      <th>2021-03-12</th>\n",
              "      <td>231.869995</td>\n",
              "      <td>118.300003</td>\n",
              "      <td>161.059998</td>\n",
              "    </tr>\n",
              "  </tbody>\n",
              "</table>\n",
              "<p>2067 rows × 3 columns</p>\n",
              "</div>"
            ],
            "text/plain": [
              "                  BABA         TSM         PDD\n",
              "Date                                          \n",
              "2012-12-26         NaN   16.920000         NaN\n",
              "2012-12-27         NaN   16.980000         NaN\n",
              "2012-12-28         NaN   17.129999         NaN\n",
              "2012-12-31         NaN   17.160000         NaN\n",
              "2013-01-02         NaN   18.100000         NaN\n",
              "...                ...         ...         ...\n",
              "2021-03-08  226.690002  113.930000  137.600006\n",
              "2021-03-09  238.139999  116.379997  154.179993\n",
              "2021-03-10  234.300003  113.830002  148.139999\n",
              "2021-03-11  240.800003  120.580002  162.399994\n",
              "2021-03-12  231.869995  118.300003  161.059998\n",
              "\n",
              "[2067 rows x 3 columns]"
            ]
          },
          "metadata": {
            "tags": []
          },
          "execution_count": 31
        }
      ]
    },
    {
      "cell_type": "code",
      "metadata": {
        "id": "Q9hPC1_k4dRf"
      },
      "source": [
        "# Yearly returns for individual companies\n",
        "ind_er = test.resample('M').last().pct_change().mean()\n",
        "cov_matrix = test.pct_change().apply(lambda x: np.log(1+x)).cov()"
      ],
      "execution_count": 37,
      "outputs": []
    },
    {
      "cell_type": "code",
      "metadata": {
        "colab": {
          "base_uri": "https://localhost:8080/"
        },
        "id": "V2iqya6D4k3t",
        "outputId": "084772c6-6bdd-47b0-8300-c8a2e19ecd74"
      },
      "source": [
        "ind_er"
      ],
      "execution_count": 38,
      "outputs": [
        {
          "output_type": "execute_result",
          "data": {
            "text/plain": [
              "BABA    0.017504\n",
              "TSM     0.022274\n",
              "PDD     0.083288\n",
              "dtype: float64"
            ]
          },
          "metadata": {
            "tags": []
          },
          "execution_count": 38
        }
      ]
    },
    {
      "cell_type": "code",
      "metadata": {
        "colab": {
          "base_uri": "https://localhost:8080/",
          "height": 450
        },
        "id": "9t_iQeik4pvN",
        "outputId": "1985aeba-9893-43a2-e1d2-40691f0ab9b3"
      },
      "source": [
        "test.resample('M').last().pct_change()"
      ],
      "execution_count": 39,
      "outputs": [
        {
          "output_type": "execute_result",
          "data": {
            "text/html": [
              "<div>\n",
              "<style scoped>\n",
              "    .dataframe tbody tr th:only-of-type {\n",
              "        vertical-align: middle;\n",
              "    }\n",
              "\n",
              "    .dataframe tbody tr th {\n",
              "        vertical-align: top;\n",
              "    }\n",
              "\n",
              "    .dataframe thead th {\n",
              "        text-align: right;\n",
              "    }\n",
              "</style>\n",
              "<table border=\"1\" class=\"dataframe\">\n",
              "  <thead>\n",
              "    <tr style=\"text-align: right;\">\n",
              "      <th></th>\n",
              "      <th>BABA</th>\n",
              "      <th>TSM</th>\n",
              "      <th>PDD</th>\n",
              "    </tr>\n",
              "    <tr>\n",
              "      <th>Date</th>\n",
              "      <th></th>\n",
              "      <th></th>\n",
              "      <th></th>\n",
              "    </tr>\n",
              "  </thead>\n",
              "  <tbody>\n",
              "    <tr>\n",
              "      <th>2012-12-31</th>\n",
              "      <td>NaN</td>\n",
              "      <td>NaN</td>\n",
              "      <td>NaN</td>\n",
              "    </tr>\n",
              "    <tr>\n",
              "      <th>2013-01-31</th>\n",
              "      <td>NaN</td>\n",
              "      <td>0.033800</td>\n",
              "      <td>NaN</td>\n",
              "    </tr>\n",
              "    <tr>\n",
              "      <th>2013-02-28</th>\n",
              "      <td>NaN</td>\n",
              "      <td>0.028749</td>\n",
              "      <td>NaN</td>\n",
              "    </tr>\n",
              "    <tr>\n",
              "      <th>2013-03-31</th>\n",
              "      <td>NaN</td>\n",
              "      <td>-0.058082</td>\n",
              "      <td>NaN</td>\n",
              "    </tr>\n",
              "    <tr>\n",
              "      <th>2013-04-30</th>\n",
              "      <td>NaN</td>\n",
              "      <td>0.109948</td>\n",
              "      <td>NaN</td>\n",
              "    </tr>\n",
              "    <tr>\n",
              "      <th>...</th>\n",
              "      <td>...</td>\n",
              "      <td>...</td>\n",
              "      <td>...</td>\n",
              "    </tr>\n",
              "    <tr>\n",
              "      <th>2020-11-30</th>\n",
              "      <td>-0.135646</td>\n",
              "      <td>0.156790</td>\n",
              "      <td>0.542676</td>\n",
              "    </tr>\n",
              "    <tr>\n",
              "      <th>2020-12-31</th>\n",
              "      <td>-0.116305</td>\n",
              "      <td>0.123892</td>\n",
              "      <td>0.279951</td>\n",
              "    </tr>\n",
              "    <tr>\n",
              "      <th>2021-01-31</th>\n",
              "      <td>0.090663</td>\n",
              "      <td>0.114453</td>\n",
              "      <td>-0.067316</td>\n",
              "    </tr>\n",
              "    <tr>\n",
              "      <th>2021-02-28</th>\n",
              "      <td>-0.063310</td>\n",
              "      <td>0.036373</td>\n",
              "      <td>0.032889</td>\n",
              "    </tr>\n",
              "    <tr>\n",
              "      <th>2021-03-31</th>\n",
              "      <td>-0.024773</td>\n",
              "      <td>-0.060664</td>\n",
              "      <td>-0.059009</td>\n",
              "    </tr>\n",
              "  </tbody>\n",
              "</table>\n",
              "<p>100 rows × 3 columns</p>\n",
              "</div>"
            ],
            "text/plain": [
              "                BABA       TSM       PDD\n",
              "Date                                    \n",
              "2012-12-31       NaN       NaN       NaN\n",
              "2013-01-31       NaN  0.033800       NaN\n",
              "2013-02-28       NaN  0.028749       NaN\n",
              "2013-03-31       NaN -0.058082       NaN\n",
              "2013-04-30       NaN  0.109948       NaN\n",
              "...              ...       ...       ...\n",
              "2020-11-30 -0.135646  0.156790  0.542676\n",
              "2020-12-31 -0.116305  0.123892  0.279951\n",
              "2021-01-31  0.090663  0.114453 -0.067316\n",
              "2021-02-28 -0.063310  0.036373  0.032889\n",
              "2021-03-31 -0.024773 -0.060664 -0.059009\n",
              "\n",
              "[100 rows x 3 columns]"
            ]
          },
          "metadata": {
            "tags": []
          },
          "execution_count": 39
        }
      ]
    },
    {
      "cell_type": "code",
      "metadata": {
        "id": "hljrMy9k4sHN"
      },
      "source": [
        ""
      ],
      "execution_count": null,
      "outputs": []
    }
  ]
}