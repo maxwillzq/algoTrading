{
 "cells": [
  {
   "cell_type": "markdown",
   "id": "e990a0be",
   "metadata": {},
   "source": [
    "## stock_info utility functions"
   ]
  },
  {
   "cell_type": "code",
   "execution_count": 1,
   "id": "a6081b60",
   "metadata": {},
   "outputs": [],
   "source": [
    "import algotrading\n",
    "from algotrading import stock_info as si"
   ]
  },
  {
   "cell_type": "code",
   "execution_count": 2,
   "id": "3977050a",
   "metadata": {},
   "outputs": [
    {
     "name": "stdout",
     "output_type": "stream",
     "text": [
      "['HTMLSession', '__builtins__', '__cached__', '__doc__', '__file__', '__loader__', '__name__', '__package__', '__spec__', '_convert_to_numeric', '_parse_earnings_json', '_parse_json', '_parse_table', '_raw_get_daily_info', 'base_url', 'build_url', 'datetime', 'force_float', 'ftplib', 'get_analysts_info', 'get_balance_sheet', 'get_cash_flow', 'get_company_info', 'get_company_officers', 'get_currencies', 'get_data', 'get_day_gainers', 'get_day_losers', 'get_day_most_active', 'get_dividends', 'get_earnings', 'get_earnings_for_date', 'get_earnings_history', 'get_earnings_in_date_range', 'get_financials', 'get_futures', 'get_holders', 'get_income_statement', 'get_live_price', 'get_market_status', 'get_next_earnings_date', 'get_postmarket_price', 'get_premarket_price', 'get_quote_data', 'get_quote_table', 'get_splits', 'get_stats', 'get_stats_valuation', 'get_top_crypto', 'get_undervalued_large_caps', 'io', 'json', 'pd', 're', 'requests', 'ssl', 'tickers_csi300', 'tickers_dow', 'tickers_ftse100', 'tickers_ftse250', 'tickers_ibovespa', 'tickers_nasdaq', 'tickers_nifty50', 'tickers_niftybank', 'tickers_other', 'tickers_sp500']\n"
     ]
    }
   ],
   "source": [
    "print(dir(si))"
   ]
  },
  {
   "cell_type": "code",
   "execution_count": null,
   "id": "68bed6d4",
   "metadata": {},
   "outputs": [],
   "source": [
    "len(si.tickers_sp500())\n",
    "len(si.tickers_dow())\n",
    "len(si.tickers_other())\n",
    "len(si.tickers_nasdaq())"
   ]
  },
  {
   "cell_type": "code",
   "execution_count": 6,
   "id": "c403978d",
   "metadata": {},
   "outputs": [],
   "source": [
    "#si.get_analysts_info('AMZN')\n",
    "#si.get_balance_sheet('AMZN')\n",
    "#si.get_cash_flow('AMZN')\n",
    "#si.get_company_info('AMZN')\n",
    "#si.get_company_officers('AMZN')\n",
    "#si.get_currencies()\n",
    "#si.get_data('AMZN')\n",
    "#si.get_day_gainers()\n",
    "#si.get_day_losers()\n",
    "#si.get_day_most_active()\n",
    "#si.get_dividends('TSM')\n",
    "#si.get_earnings('AMZN')\n",
    "#si.get_earnings_for_date(\"06/01/2022\")\n",
    "#si.get_earnings_history('AMZN')\n",
    "#si.get_financials('AMZN')\n",
    "#si.get_futures()\n",
    "#si.get_holders('AMZN')\n",
    "#si.get_income_statement('AMZN')\n",
    "#si.get_live_price('AMZN')\n",
    "#si.get_market_status()\n",
    "#si.get_postmarket_price('AMZN')\n",
    "#si.get_premarket_price('AMZN')\n",
    "#si.get_quote_data('AMZN')\n",
    "#si.get_quote_table('AMZN')\n",
    "#si.get_splits('AMZN')\n",
    "#si.get_stats('AMZN')\n",
    "#si.get_stats_valuation('AMZN')\n",
    "#si.get_top_crypto()\n",
    "#si.get_undervalued_large_caps()"
   ]
  }
 ],
 "metadata": {
  "jupytext": {
   "formats": "ipynb,md"
  },
  "kernelspec": {
   "display_name": "Python 3",
   "language": "python",
   "name": "python3"
  },
  "language_info": {
   "codemirror_mode": {
    "name": "ipython",
    "version": 3
   },
   "file_extension": ".py",
   "mimetype": "text/x-python",
   "name": "python",
   "nbconvert_exporter": "python",
   "pygments_lexer": "ipython3",
   "version": "3.6.8"
  }
 },
 "nbformat": 4,
 "nbformat_minor": 5
}
