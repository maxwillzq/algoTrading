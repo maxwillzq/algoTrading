{
 "cells": [
  {
   "cell_type": "markdown",
   "metadata": {
    "colab_type": "text",
    "id": "view-in-github"
   },
   "source": [
    "<a href=\"https://colab.research.google.com/github/maxwillzq/algoTrading/blob/main/Chapter_2_portfolio_optimization.ipynb\" target=\"_parent\"><img src=\"https://colab.research.google.com/assets/colab-badge.svg\" alt=\"Open In Colab\"/></a>"
   ]
  },
  {
   "cell_type": "markdown",
   "metadata": {
    "id": "8uM_VEGRu2O9"
   },
   "source": [
    "# Portfolio Optimization and Algorithmic Trading"
   ]
  },
  {
   "cell_type": "markdown",
   "metadata": {
    "id": "8kdijMXloeeL"
   },
   "source": [
    "## install software"
   ]
  },
  {
   "cell_type": "code",
   "execution_count": 1,
   "metadata": {
    "colab": {
     "base_uri": "https://localhost:8080/"
    },
    "id": "A5FZMPqeoglP",
    "outputId": "43bffca1-41b5-4e59-a8e0-6a2c82d9731d"
   },
   "outputs": [],
   "source": [
    "#!pip install git+https://github.com/maxwillzq/algoTrading.git"
   ]
  },
  {
   "cell_type": "markdown",
   "metadata": {
    "id": "hKhY2AKSidJE"
   },
   "source": [
    "# Select stock from stock table\n",
    "\n",
    "Step 1: choose **stock**"
   ]
  },
  {
   "cell_type": "code",
   "execution_count": 2,
   "metadata": {
    "id": "B3axwP4QCmOt"
   },
   "outputs": [],
   "source": [
    "import algotrading\n",
    "import matplotlib.pyplot as plt\n",
    "import pandas as pd\n",
    "import numpy as np\n",
    "import datetime as dt"
   ]
  },
  {
   "cell_type": "code",
   "execution_count": 3,
   "metadata": {
    "id": "cNQyznM2CW20"
   },
   "outputs": [],
   "source": [
    "test = {}\n",
    "stock_name_list  = [\"BABA\", \"TSM\", \"PDD\"]\n",
    "end = end = dt.datetime.now()\n",
    "start = start =  end - dt.timedelta(3000)\n",
    "for stock_name in stock_name_list:\n",
    "  stock = algotrading.stock.Stock(stock_name)\n",
    "  stock.read_data(start, end)\n",
    "  test[stock_name] = stock.df['Close']\n",
    "test = pd.DataFrame(test)"
   ]
  },
  {
   "cell_type": "code",
   "execution_count": 4,
   "metadata": {
    "colab": {
     "base_uri": "https://localhost:8080/",
     "height": 450
    },
    "id": "1AILiZWi7Vpz",
    "outputId": "8605ef1b-679f-476d-d07f-2cc881dc8e46"
   },
   "outputs": [
    {
     "data": {
      "text/html": [
       "<div>\n",
       "<style scoped>\n",
       "    .dataframe tbody tr th:only-of-type {\n",
       "        vertical-align: middle;\n",
       "    }\n",
       "\n",
       "    .dataframe tbody tr th {\n",
       "        vertical-align: top;\n",
       "    }\n",
       "\n",
       "    .dataframe thead th {\n",
       "        text-align: right;\n",
       "    }\n",
       "</style>\n",
       "<table border=\"1\" class=\"dataframe\">\n",
       "  <thead>\n",
       "    <tr style=\"text-align: right;\">\n",
       "      <th></th>\n",
       "      <th>BABA</th>\n",
       "      <th>TSM</th>\n",
       "      <th>PDD</th>\n",
       "    </tr>\n",
       "    <tr>\n",
       "      <th>Date</th>\n",
       "      <th></th>\n",
       "      <th></th>\n",
       "      <th></th>\n",
       "    </tr>\n",
       "  </thead>\n",
       "  <tbody>\n",
       "    <tr>\n",
       "      <th>2021-06-01</th>\n",
       "      <td>219.479996</td>\n",
       "      <td>118.510002</td>\n",
       "      <td>139.339996</td>\n",
       "    </tr>\n",
       "    <tr>\n",
       "      <th>2021-06-02</th>\n",
       "      <td>219.589996</td>\n",
       "      <td>118.949997</td>\n",
       "      <td>139.899994</td>\n",
       "    </tr>\n",
       "    <tr>\n",
       "      <th>2021-06-03</th>\n",
       "      <td>217.039993</td>\n",
       "      <td>116.820000</td>\n",
       "      <td>133.449997</td>\n",
       "    </tr>\n",
       "    <tr>\n",
       "      <th>2021-06-04</th>\n",
       "      <td>219.020004</td>\n",
       "      <td>119.510002</td>\n",
       "      <td>132.169998</td>\n",
       "    </tr>\n",
       "    <tr>\n",
       "      <th>2021-06-07</th>\n",
       "      <td>216.899994</td>\n",
       "      <td>118.220001</td>\n",
       "      <td>127.930000</td>\n",
       "    </tr>\n",
       "    <tr>\n",
       "      <th>...</th>\n",
       "      <td>...</td>\n",
       "      <td>...</td>\n",
       "      <td>...</td>\n",
       "    </tr>\n",
       "    <tr>\n",
       "      <th>2022-05-23</th>\n",
       "      <td>87.230003</td>\n",
       "      <td>91.500000</td>\n",
       "      <td>40.450001</td>\n",
       "    </tr>\n",
       "    <tr>\n",
       "      <th>2022-05-24</th>\n",
       "      <td>82.470001</td>\n",
       "      <td>88.720001</td>\n",
       "      <td>36.959999</td>\n",
       "    </tr>\n",
       "    <tr>\n",
       "      <th>2022-05-25</th>\n",
       "      <td>82.309998</td>\n",
       "      <td>90.410004</td>\n",
       "      <td>38.310001</td>\n",
       "    </tr>\n",
       "    <tr>\n",
       "      <th>2022-05-26</th>\n",
       "      <td>94.480003</td>\n",
       "      <td>91.000000</td>\n",
       "      <td>41.930000</td>\n",
       "    </tr>\n",
       "    <tr>\n",
       "      <th>2022-05-27</th>\n",
       "      <td>93.410004</td>\n",
       "      <td>93.769997</td>\n",
       "      <td>48.299999</td>\n",
       "    </tr>\n",
       "  </tbody>\n",
       "</table>\n",
       "<p>252 rows × 3 columns</p>\n",
       "</div>"
      ],
      "text/plain": [
       "                  BABA         TSM         PDD\n",
       "Date                                          \n",
       "2021-06-01  219.479996  118.510002  139.339996\n",
       "2021-06-02  219.589996  118.949997  139.899994\n",
       "2021-06-03  217.039993  116.820000  133.449997\n",
       "2021-06-04  219.020004  119.510002  132.169998\n",
       "2021-06-07  216.899994  118.220001  127.930000\n",
       "...                ...         ...         ...\n",
       "2022-05-23   87.230003   91.500000   40.450001\n",
       "2022-05-24   82.470001   88.720001   36.959999\n",
       "2022-05-25   82.309998   90.410004   38.310001\n",
       "2022-05-26   94.480003   91.000000   41.930000\n",
       "2022-05-27   93.410004   93.769997   48.299999\n",
       "\n",
       "[252 rows x 3 columns]"
      ]
     },
     "execution_count": 4,
     "metadata": {},
     "output_type": "execute_result"
    }
   ],
   "source": [
    "test"
   ]
  },
  {
   "cell_type": "code",
   "execution_count": 5,
   "metadata": {
    "id": "Q9hPC1_k4dRf"
   },
   "outputs": [],
   "source": [
    "# Yearly returns for individual companies\n",
    "ind_er = test.resample('M').last().pct_change().mean()\n",
    "cov_matrix = test.pct_change().apply(lambda x: np.log(1+x)).cov()"
   ]
  },
  {
   "cell_type": "code",
   "execution_count": 6,
   "metadata": {
    "colab": {
     "base_uri": "https://localhost:8080/"
    },
    "id": "V2iqya6D4k3t",
    "outputId": "084772c6-6bdd-47b0-8300-c8a2e19ecd74"
   },
   "outputs": [
    {
     "data": {
      "text/plain": [
       "BABA   -0.072227\n",
       "TSM    -0.020778\n",
       "PDD    -0.073955\n",
       "dtype: float64"
      ]
     },
     "execution_count": 6,
     "metadata": {},
     "output_type": "execute_result"
    }
   ],
   "source": [
    "ind_er"
   ]
  },
  {
   "cell_type": "code",
   "execution_count": 7,
   "metadata": {
    "colab": {
     "base_uri": "https://localhost:8080/",
     "height": 450
    },
    "id": "9t_iQeik4pvN",
    "outputId": "1985aeba-9893-43a2-e1d2-40691f0ab9b3"
   },
   "outputs": [
    {
     "data": {
      "text/html": [
       "<div>\n",
       "<style scoped>\n",
       "    .dataframe tbody tr th:only-of-type {\n",
       "        vertical-align: middle;\n",
       "    }\n",
       "\n",
       "    .dataframe tbody tr th {\n",
       "        vertical-align: top;\n",
       "    }\n",
       "\n",
       "    .dataframe thead th {\n",
       "        text-align: right;\n",
       "    }\n",
       "</style>\n",
       "<table border=\"1\" class=\"dataframe\">\n",
       "  <thead>\n",
       "    <tr style=\"text-align: right;\">\n",
       "      <th></th>\n",
       "      <th>BABA</th>\n",
       "      <th>TSM</th>\n",
       "      <th>PDD</th>\n",
       "    </tr>\n",
       "    <tr>\n",
       "      <th>Date</th>\n",
       "      <th></th>\n",
       "      <th></th>\n",
       "      <th></th>\n",
       "    </tr>\n",
       "  </thead>\n",
       "  <tbody>\n",
       "    <tr>\n",
       "      <th>2021-06-30</th>\n",
       "      <td>NaN</td>\n",
       "      <td>NaN</td>\n",
       "      <td>NaN</td>\n",
       "    </tr>\n",
       "    <tr>\n",
       "      <th>2021-07-31</th>\n",
       "      <td>-0.139298</td>\n",
       "      <td>-0.029294</td>\n",
       "      <td>-0.278775</td>\n",
       "    </tr>\n",
       "    <tr>\n",
       "      <th>2021-08-31</th>\n",
       "      <td>-0.144475</td>\n",
       "      <td>0.020319</td>\n",
       "      <td>0.091802</td>\n",
       "    </tr>\n",
       "    <tr>\n",
       "      <th>2021-09-30</th>\n",
       "      <td>-0.113420</td>\n",
       "      <td>-0.061844</td>\n",
       "      <td>-0.093481</td>\n",
       "    </tr>\n",
       "    <tr>\n",
       "      <th>2021-10-31</th>\n",
       "      <td>0.114083</td>\n",
       "      <td>0.018361</td>\n",
       "      <td>-0.019301</td>\n",
       "    </tr>\n",
       "    <tr>\n",
       "      <th>2021-11-30</th>\n",
       "      <td>-0.226810</td>\n",
       "      <td>0.030343</td>\n",
       "      <td>-0.252137</td>\n",
       "    </tr>\n",
       "    <tr>\n",
       "      <th>2021-12-31</th>\n",
       "      <td>-0.068533</td>\n",
       "      <td>0.026974</td>\n",
       "      <td>-0.123308</td>\n",
       "    </tr>\n",
       "    <tr>\n",
       "      <th>2022-01-31</th>\n",
       "      <td>0.058928</td>\n",
       "      <td>0.019284</td>\n",
       "      <td>0.026415</td>\n",
       "    </tr>\n",
       "    <tr>\n",
       "      <th>2022-02-28</th>\n",
       "      <td>-0.163765</td>\n",
       "      <td>-0.127375</td>\n",
       "      <td>-0.133356</td>\n",
       "    </tr>\n",
       "    <tr>\n",
       "      <th>2022-03-31</th>\n",
       "      <td>0.034319</td>\n",
       "      <td>-0.025699</td>\n",
       "      <td>-0.226572</td>\n",
       "    </tr>\n",
       "    <tr>\n",
       "      <th>2022-04-30</th>\n",
       "      <td>-0.107629</td>\n",
       "      <td>-0.108671</td>\n",
       "      <td>0.074296</td>\n",
       "    </tr>\n",
       "    <tr>\n",
       "      <th>2022-05-31</th>\n",
       "      <td>-0.037903</td>\n",
       "      <td>0.009039</td>\n",
       "      <td>0.120910</td>\n",
       "    </tr>\n",
       "  </tbody>\n",
       "</table>\n",
       "</div>"
      ],
      "text/plain": [
       "                BABA       TSM       PDD\n",
       "Date                                    \n",
       "2021-06-30       NaN       NaN       NaN\n",
       "2021-07-31 -0.139298 -0.029294 -0.278775\n",
       "2021-08-31 -0.144475  0.020319  0.091802\n",
       "2021-09-30 -0.113420 -0.061844 -0.093481\n",
       "2021-10-31  0.114083  0.018361 -0.019301\n",
       "2021-11-30 -0.226810  0.030343 -0.252137\n",
       "2021-12-31 -0.068533  0.026974 -0.123308\n",
       "2022-01-31  0.058928  0.019284  0.026415\n",
       "2022-02-28 -0.163765 -0.127375 -0.133356\n",
       "2022-03-31  0.034319 -0.025699 -0.226572\n",
       "2022-04-30 -0.107629 -0.108671  0.074296\n",
       "2022-05-31 -0.037903  0.009039  0.120910"
      ]
     },
     "execution_count": 7,
     "metadata": {},
     "output_type": "execute_result"
    }
   ],
   "source": [
    "test.resample('M').last().pct_change()"
   ]
  },
  {
   "cell_type": "code",
   "execution_count": null,
   "metadata": {
    "id": "hljrMy9k4sHN"
   },
   "outputs": [],
   "source": []
  }
 ],
 "metadata": {
  "colab": {
   "collapsed_sections": [],
   "include_colab_link": true,
   "name": "Chapter_2_portfolio_optimization.ipynb",
   "provenance": [],
   "toc_visible": true
  },
  "kernelspec": {
   "display_name": "Python 3",
   "language": "python",
   "name": "python3"
  },
  "language_info": {
   "codemirror_mode": {
    "name": "ipython",
    "version": 3
   },
   "file_extension": ".py",
   "mimetype": "text/x-python",
   "name": "python",
   "nbconvert_exporter": "python",
   "pygments_lexer": "ipython3",
   "version": "3.6.8"
  }
 },
 "nbformat": 4,
 "nbformat_minor": 1
}
