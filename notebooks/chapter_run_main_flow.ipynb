{
  "nbformat": 4,
  "nbformat_minor": 0,
  "metadata": {
    "colab": {
      "name": "chapter_run_main_flow",
      "private_outputs": true,
      "provenance": [],
      "collapsed_sections": [],
      "toc_visible": true,
      "authorship_tag": "ABX9TyNt1A10zVbEy7RX1wDsqsKD",
      "include_colab_link": true
    },
    "kernelspec": {
      "name": "python3",
      "display_name": "Python 3"
    },
    "language_info": {
      "name": "python"
    }
  },
  "cells": [
    {
      "cell_type": "markdown",
      "metadata": {
        "id": "view-in-github",
        "colab_type": "text"
      },
      "source": [
        "<a href=\"https://colab.research.google.com/github/maxwillzq/algoTrading/blob/main/noteboosk/chapter_run_main_flow.ipynb\" target=\"_parent\"><img src=\"https://colab.research.google.com/assets/colab-badge.svg\" alt=\"Open In Colab\"/></a>"
      ]
    },
    {
      "cell_type": "code",
      "metadata": {
        "id": "j_ORAm04ZZTY"
      },
      "source": [
        "# if use it in colab, please install it by yourself first\n",
        "!pip3 install git+https://github.com/maxwillzq/algoTrading.git"
      ],
      "execution_count": null,
      "outputs": []
    },
    {
      "cell_type": "code",
      "metadata": {
        "id": "f2J26QujZgKV"
      },
      "source": [
        "!python3 -m algotrading.scripts.draw_single_plot --help"
      ],
      "execution_count": null,
      "outputs": []
    },
    {
      "cell_type": "code",
      "metadata": {
        "id": "rH81D1rEZuyM"
      },
      "source": [
        "pwd"
      ],
      "execution_count": null,
      "outputs": []
    },
    {
      "cell_type": "code",
      "metadata": {
        "id": "9h7j18YuZwok"
      },
      "source": [
        "!mkdir ./results"
      ],
      "execution_count": null,
      "outputs": []
    },
    {
      "cell_type": "code",
      "metadata": {
        "id": "2Vzbz0ecZ3Nz"
      },
      "source": [
        "!python3 -m algotrading.scripts.draw_single_plot --extra stock_list=shuping"
      ],
      "execution_count": null,
      "outputs": []
    }
  ]
}