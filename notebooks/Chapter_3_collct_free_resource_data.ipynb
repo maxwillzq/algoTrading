{
  "nbformat": 4,
  "nbformat_minor": 0,
  "metadata": {
    "colab": {
      "name": "Chapter_3_collct_free_resource_data.ipynb",
      "provenance": [],
      "collapsed_sections": [],
      "toc_visible": true,
      "include_colab_link": true
    },
    "kernelspec": {
      "name": "python3",
      "display_name": "Python 3"
    }
  },
  "cells": [
    {
      "cell_type": "markdown",
      "metadata": {
        "id": "view-in-github",
        "colab_type": "text"
      },
      "source": [
        "<a href=\"https://colab.research.google.com/github/maxwillzq/algoTrading/blob/main/Chapter_3_collct_free_resource_data.ipynb\" target=\"_parent\"><img src=\"https://colab.research.google.com/assets/colab-badge.svg\" alt=\"Open In Colab\"/></a>"
      ]
    },
    {
      "cell_type": "markdown",
      "metadata": {
        "id": "8uM_VEGRu2O9"
      },
      "source": [
        "# Collect Free reource or data"
      ]
    },
    {
      "cell_type": "markdown",
      "metadata": {
        "id": "8kdijMXloeeL"
      },
      "source": [
        "## install software"
      ]
    },
    {
      "cell_type": "code",
      "metadata": {
        "colab": {
          "base_uri": "https://localhost:8080/"
        },
        "id": "A5FZMPqeoglP",
        "outputId": "d7a2eb68-b7ed-4029-8446-2d54de4e980d"
      },
      "source": [
        "!pip install git+https://github.com/maxwillzq/algoTrading.git"
      ],
      "execution_count": 1,
      "outputs": [
        {
          "output_type": "stream",
          "text": [
            "Collecting git+https://github.com/maxwillzq/algoTrading.git\n",
            "  Cloning https://github.com/maxwillzq/algoTrading.git to /tmp/pip-req-build-yv0syoqv\n",
            "  Running command git clone -q https://github.com/maxwillzq/algoTrading.git /tmp/pip-req-build-yv0syoqv\n",
            "Requirement already satisfied: pandas in /usr/local/lib/python3.7/dist-packages (from algotrading==0.0.4) (1.1.5)\n",
            "Requirement already satisfied: pandas_datareader in /usr/local/lib/python3.7/dist-packages (from algotrading==0.0.4) (0.9.0)\n",
            "Requirement already satisfied: matplotlib in /usr/local/lib/python3.7/dist-packages (from algotrading==0.0.4) (3.2.2)\n",
            "Requirement already satisfied: seaborn in /usr/local/lib/python3.7/dist-packages (from algotrading==0.0.4) (0.11.1)\n",
            "Collecting datetime\n",
            "\u001b[?25l  Downloading https://files.pythonhosted.org/packages/73/22/a5297f3a1f92468cc737f8ce7ba6e5f245fcfafeae810ba37bd1039ea01c/DateTime-4.3-py2.py3-none-any.whl (60kB)\n",
            "\u001b[K     |████████████████████████████████| 61kB 3.9MB/s \n",
            "\u001b[?25hRequirement already satisfied: numpy in /usr/local/lib/python3.7/dist-packages (from algotrading==0.0.4) (1.19.5)\n",
            "Collecting mplfinance\n",
            "\u001b[?25l  Downloading https://files.pythonhosted.org/packages/d2/9b/802468e3fda986958c185fecb009d8e52f147907cc9a52baf4abef8e1772/mplfinance-0.12.7a7-py3-none-any.whl (58kB)\n",
            "\u001b[K     |████████████████████████████████| 61kB 3.5MB/s \n",
            "\u001b[?25hCollecting pypandoc\n",
            "  Downloading https://files.pythonhosted.org/packages/d6/b7/5050dc1769c8a93d3ec7c4bd55be161991c94b8b235f88bf7c764449e708/pypandoc-1.5.tar.gz\n",
            "Requirement already satisfied: pytz>=2017.2 in /usr/local/lib/python3.7/dist-packages (from pandas->algotrading==0.0.4) (2018.9)\n",
            "Requirement already satisfied: python-dateutil>=2.7.3 in /usr/local/lib/python3.7/dist-packages (from pandas->algotrading==0.0.4) (2.8.1)\n",
            "Requirement already satisfied: requests>=2.19.0 in /usr/local/lib/python3.7/dist-packages (from pandas_datareader->algotrading==0.0.4) (2.23.0)\n",
            "Requirement already satisfied: lxml in /usr/local/lib/python3.7/dist-packages (from pandas_datareader->algotrading==0.0.4) (4.2.6)\n",
            "Requirement already satisfied: pyparsing!=2.0.4,!=2.1.2,!=2.1.6,>=2.0.1 in /usr/local/lib/python3.7/dist-packages (from matplotlib->algotrading==0.0.4) (2.4.7)\n",
            "Requirement already satisfied: kiwisolver>=1.0.1 in /usr/local/lib/python3.7/dist-packages (from matplotlib->algotrading==0.0.4) (1.3.1)\n",
            "Requirement already satisfied: cycler>=0.10 in /usr/local/lib/python3.7/dist-packages (from matplotlib->algotrading==0.0.4) (0.10.0)\n",
            "Requirement already satisfied: scipy>=1.0 in /usr/local/lib/python3.7/dist-packages (from seaborn->algotrading==0.0.4) (1.4.1)\n",
            "Collecting zope.interface\n",
            "\u001b[?25l  Downloading https://files.pythonhosted.org/packages/f8/42/d8f11eaef844bee267821281fffe445e49cf31b486d72a81821a9d45cd0a/zope.interface-5.2.0-cp37-cp37m-manylinux2010_x86_64.whl (237kB)\n",
            "\u001b[K     |████████████████████████████████| 245kB 17.6MB/s \n",
            "\u001b[?25hRequirement already satisfied: setuptools in /usr/local/lib/python3.7/dist-packages (from pypandoc->algotrading==0.0.4) (54.0.0)\n",
            "Requirement already satisfied: pip>=8.1.0 in /usr/local/lib/python3.7/dist-packages (from pypandoc->algotrading==0.0.4) (19.3.1)\n",
            "Requirement already satisfied: wheel>=0.25.0 in /usr/local/lib/python3.7/dist-packages (from pypandoc->algotrading==0.0.4) (0.36.2)\n",
            "Requirement already satisfied: six>=1.5 in /usr/local/lib/python3.7/dist-packages (from python-dateutil>=2.7.3->pandas->algotrading==0.0.4) (1.15.0)\n",
            "Requirement already satisfied: chardet<4,>=3.0.2 in /usr/local/lib/python3.7/dist-packages (from requests>=2.19.0->pandas_datareader->algotrading==0.0.4) (3.0.4)\n",
            "Requirement already satisfied: urllib3!=1.25.0,!=1.25.1,<1.26,>=1.21.1 in /usr/local/lib/python3.7/dist-packages (from requests>=2.19.0->pandas_datareader->algotrading==0.0.4) (1.24.3)\n",
            "Requirement already satisfied: idna<3,>=2.5 in /usr/local/lib/python3.7/dist-packages (from requests>=2.19.0->pandas_datareader->algotrading==0.0.4) (2.10)\n",
            "Requirement already satisfied: certifi>=2017.4.17 in /usr/local/lib/python3.7/dist-packages (from requests>=2.19.0->pandas_datareader->algotrading==0.0.4) (2020.12.5)\n",
            "Building wheels for collected packages: algotrading, pypandoc\n",
            "  Building wheel for algotrading (setup.py) ... \u001b[?25l\u001b[?25hdone\n",
            "  Created wheel for algotrading: filename=algotrading-0.0.4-cp37-none-any.whl size=27807 sha256=b11fcfbb948f8427c8cc4c0f4bcdd6f33ac244a29a2acdee04160843e0f37ff5\n",
            "  Stored in directory: /tmp/pip-ephem-wheel-cache-8zyluuuv/wheels/da/aa/a0/a6d9eef8a1b8f93f71a30d79de070f52e3c2d0f1398d1ddcdf\n",
            "  Building wheel for pypandoc (setup.py) ... \u001b[?25l\u001b[?25hdone\n",
            "  Created wheel for pypandoc: filename=pypandoc-1.5-cp37-none-any.whl size=17036 sha256=ef940a0eb33251628ce479f4ea54a001986c61715debf7e63b374fd059d57390\n",
            "  Stored in directory: /root/.cache/pip/wheels/bb/7d/d6/2f9af55e800d37e42e546106bcbd36a86e24e725e303d17e04\n",
            "Successfully built algotrading pypandoc\n",
            "Installing collected packages: zope.interface, datetime, mplfinance, pypandoc, algotrading\n",
            "Successfully installed algotrading-0.0.4 datetime-4.3 mplfinance-0.12.7a7 pypandoc-1.5 zope.interface-5.2.0\n"
          ],
          "name": "stdout"
        }
      ]
    },
    {
      "cell_type": "markdown",
      "metadata": {
        "id": "hKhY2AKSidJE"
      },
      "source": [
        "# Get most active stock from yahoo screner\n",
        "\n"
      ]
    },
    {
      "cell_type": "code",
      "metadata": {
        "id": "B3axwP4QCmOt"
      },
      "source": [
        "import algotrading\n",
        "import matplotlib.pyplot as plt\n",
        "import pandas as pd\n",
        "import numpy as np\n",
        "import datetime as dt"
      ],
      "execution_count": 2,
      "outputs": []
    },
    {
      "cell_type": "code",
      "metadata": {
        "colab": {
          "base_uri": "https://localhost:8080/"
        },
        "id": "2DvH45jm3FTl",
        "outputId": "c3bacea3-dab7-4c57-e0b6-82902a93a64c"
      },
      "source": [
        "# 貼上連結\n",
        "url = 'https://finance.yahoo.com/screener/predefined/most_actives?count=50&offset=0'\n",
        "data = pd.read_html(url)[0]\n",
        "\n",
        "# 欄位『Symbol』就是股票代碼\n",
        "stk_list = data.Symbol\n",
        "stk_list"
      ],
      "execution_count": 4,
      "outputs": [
        {
          "output_type": "execute_result",
          "data": {
            "text/plain": [
              "0     SNDL\n",
              "1       GE\n",
              "2      NIO\n",
              "3      AMC\n",
              "4      ZOM\n",
              "5     AAPL\n",
              "6        F\n",
              "7        T\n",
              "8     PLTR\n",
              "9      AAL\n",
              "10    RIDE\n",
              "11     BAC\n",
              "12     NOK\n",
              "13    TLRY\n",
              "14    VIAC\n",
              "15    ITUB\n",
              "16      BA\n",
              "17    FCEL\n",
              "18    TSLA\n",
              "19     AMD\n",
              "20     CCL\n",
              "21     CAN\n",
              "22      GM\n",
              "23     WFC\n",
              "24    NNDM\n",
              "25       M\n",
              "26    RIOT\n",
              "27    VALE\n",
              "28     PBR\n",
              "29      BB\n",
              "30     GME\n",
              "31    XPEV\n",
              "32      JD\n",
              "33       X\n",
              "34    SNAP\n",
              "35    NCLH\n",
              "36    MSFT\n",
              "37    TEVA\n",
              "38      VZ\n",
              "39      MU\n",
              "40     BBD\n",
              "41    PLUG\n",
              "42    APHA\n",
              "43    MVIS\n",
              "44      FB\n",
              "45     XOM\n",
              "46    CCIV\n",
              "47    INTC\n",
              "48     DBX\n",
              "49    WKHS\n",
              "Name: Symbol, dtype: object"
            ]
          },
          "metadata": {
            "tags": []
          },
          "execution_count": 4
        }
      ]
    },
    {
      "cell_type": "code",
      "metadata": {
        "colab": {
          "base_uri": "https://localhost:8080/",
          "height": 565
        },
        "id": "hljrMy9k4sHN",
        "outputId": "0b08043c-effc-47c2-8c1f-04c6b3de24b1"
      },
      "source": [
        "pip install yfinance"
      ],
      "execution_count": 5,
      "outputs": [
        {
          "output_type": "stream",
          "text": [
            "Collecting yfinance\n",
            "  Downloading https://files.pythonhosted.org/packages/7a/e8/b9d7104d3a4bf39924799067592d9e59119fcfc900a425a12e80a3123ec8/yfinance-0.1.55.tar.gz\n",
            "Requirement already satisfied: pandas>=0.24 in /usr/local/lib/python3.7/dist-packages (from yfinance) (1.1.5)\n",
            "Requirement already satisfied: numpy>=1.15 in /usr/local/lib/python3.7/dist-packages (from yfinance) (1.19.5)\n",
            "Requirement already satisfied: requests>=2.20 in /usr/local/lib/python3.7/dist-packages (from yfinance) (2.23.0)\n",
            "Requirement already satisfied: multitasking>=0.0.7 in /usr/local/lib/python3.7/dist-packages (from yfinance) (0.0.9)\n",
            "Collecting lxml>=4.5.1\n",
            "\u001b[?25l  Downloading https://files.pythonhosted.org/packages/d2/88/b25778f17e5320c1c58f8c5060fb5b037288e162bd7554c30799e9ea90db/lxml-4.6.2-cp37-cp37m-manylinux1_x86_64.whl (5.5MB)\n",
            "\u001b[K     |████████████████████████████████| 5.5MB 19.2MB/s \n",
            "\u001b[?25hRequirement already satisfied: pytz>=2017.2 in /usr/local/lib/python3.7/dist-packages (from pandas>=0.24->yfinance) (2018.9)\n",
            "Requirement already satisfied: python-dateutil>=2.7.3 in /usr/local/lib/python3.7/dist-packages (from pandas>=0.24->yfinance) (2.8.1)\n",
            "Requirement already satisfied: idna<3,>=2.5 in /usr/local/lib/python3.7/dist-packages (from requests>=2.20->yfinance) (2.10)\n",
            "Requirement already satisfied: urllib3!=1.25.0,!=1.25.1,<1.26,>=1.21.1 in /usr/local/lib/python3.7/dist-packages (from requests>=2.20->yfinance) (1.24.3)\n",
            "Requirement already satisfied: certifi>=2017.4.17 in /usr/local/lib/python3.7/dist-packages (from requests>=2.20->yfinance) (2020.12.5)\n",
            "Requirement already satisfied: chardet<4,>=3.0.2 in /usr/local/lib/python3.7/dist-packages (from requests>=2.20->yfinance) (3.0.4)\n",
            "Requirement already satisfied: six>=1.5 in /usr/local/lib/python3.7/dist-packages (from python-dateutil>=2.7.3->pandas>=0.24->yfinance) (1.15.0)\n",
            "Building wheels for collected packages: yfinance\n",
            "  Building wheel for yfinance (setup.py) ... \u001b[?25l\u001b[?25hdone\n",
            "  Created wheel for yfinance: filename=yfinance-0.1.55-py2.py3-none-any.whl size=22616 sha256=a605e36ba0f7d9d85039969b457bd8d6e0fbec3fdbf7b4b68e9c928eef285c82\n",
            "  Stored in directory: /root/.cache/pip/wheels/04/98/cc/2702a4242d60bdc14f48b4557c427ded1fe92aedf257d4565c\n",
            "Successfully built yfinance\n",
            "Installing collected packages: lxml, yfinance\n",
            "  Found existing installation: lxml 4.2.6\n",
            "    Uninstalling lxml-4.2.6:\n",
            "      Successfully uninstalled lxml-4.2.6\n",
            "Successfully installed lxml-4.6.2 yfinance-0.1.55\n"
          ],
          "name": "stdout"
        },
        {
          "output_type": "display_data",
          "data": {
            "application/vnd.colab-display-data+json": {
              "pip_warning": {
                "packages": [
                  "lxml"
                ]
              }
            }
          },
          "metadata": {
            "tags": []
          }
        }
      ]
    },
    {
      "cell_type": "code",
      "metadata": {
        "id": "Knq-wwqg5_lO"
      },
      "source": [
        "import yfinance as yf\n",
        "stock = yf.Ticker('JD')"
      ],
      "execution_count": 44,
      "outputs": []
    },
    {
      "cell_type": "code",
      "metadata": {
        "colab": {
          "base_uri": "https://localhost:8080/"
        },
        "id": "JuY8AUcZ6PJS",
        "outputId": "dd9f90dc-4ea8-4c88-fdec-8ed53d5bee03"
      },
      "source": [
        "stock.info"
      ],
      "execution_count": 45,
      "outputs": [
        {
          "output_type": "execute_result",
          "data": {
            "text/plain": [
              "{'52WeekChange': 1.3842225,\n",
              " 'SandP52WeekChange': 0.652609,\n",
              " 'address1': 'Building A',\n",
              " 'address2': '20th Floor No. 18 Kechuang 11 Street Yizhuang Eco & Tech Dev Zn, Daxing Dist.',\n",
              " 'algorithm': None,\n",
              " 'annualHoldingsTurnover': None,\n",
              " 'annualReportExpenseRatio': None,\n",
              " 'ask': 84.18,\n",
              " 'askSize': 2200,\n",
              " 'averageDailyVolume10Day': 16880914,\n",
              " 'averageVolume': 11162786,\n",
              " 'averageVolume10days': 16880914,\n",
              " 'beta': 0.832611,\n",
              " 'beta3Year': None,\n",
              " 'bid': 84.23,\n",
              " 'bidSize': 800,\n",
              " 'bookValue': 6.719,\n",
              " 'category': None,\n",
              " 'circulatingSupply': None,\n",
              " 'city': 'Beijing',\n",
              " 'companyOfficers': [],\n",
              " 'country': 'China',\n",
              " 'currency': 'USD',\n",
              " 'dateShortInterest': 1614297600,\n",
              " 'dayHigh': 86.19,\n",
              " 'dayLow': 83.28,\n",
              " 'dividendRate': None,\n",
              " 'dividendYield': None,\n",
              " 'earningsQuarterlyGrowth': 5.694,\n",
              " 'enterpriseToEbitda': None,\n",
              " 'enterpriseToRevenue': None,\n",
              " 'enterpriseValue': 130377990144,\n",
              " 'exDividendDate': None,\n",
              " 'exchange': 'NMS',\n",
              " 'exchangeTimezoneName': 'America/New_York',\n",
              " 'exchangeTimezoneShortName': 'EDT',\n",
              " 'expireDate': None,\n",
              " 'fiftyDayAverage': 95.23353,\n",
              " 'fiftyTwoWeekHigh': 108.29,\n",
              " 'fiftyTwoWeekLow': 32.7,\n",
              " 'fiveYearAverageReturn': None,\n",
              " 'fiveYearAvgDividendYield': None,\n",
              " 'floatShares': 905026861,\n",
              " 'forwardEps': 3.09,\n",
              " 'forwardPE': 27.190939,\n",
              " 'fromCurrency': None,\n",
              " 'fullTimeEmployees': 310000,\n",
              " 'fundFamily': None,\n",
              " 'fundInceptionDate': None,\n",
              " 'gmtOffSetMilliseconds': '-14400000',\n",
              " 'heldPercentInsiders': 0.07074,\n",
              " 'heldPercentInstitutions': 0.47662997,\n",
              " 'impliedSharesOutstanding': None,\n",
              " 'industry': 'Internet Retail',\n",
              " 'isEsgPopulated': False,\n",
              " 'lastCapGain': None,\n",
              " 'lastDividendDate': None,\n",
              " 'lastDividendValue': None,\n",
              " 'lastFiscalYearEnd': 1609372800,\n",
              " 'lastMarket': None,\n",
              " 'lastSplitDate': None,\n",
              " 'lastSplitFactor': None,\n",
              " 'legalType': None,\n",
              " 'logo_url': 'https://logo.clearbit.com/jd.com',\n",
              " 'longBusinessSummary': \"JD.com, Inc., through its subsidiaries, operates as an e-commerce company and retail infrastructure service provider in the People's Republic of China. It operates in two segments, JD Retail and New Businesses. The company offers home appliances; mobile handsets and other digital products; desktop, laptop, and other computers, as well as printers and other office equipment; furniture and household goods; apparel; cosmetics, personal care items, and pet products; women's shoes, bags, jewelry, and luxury goods; men's shoes, sports gears, and fitness equipment; automobiles and accessories; maternal and childcare products, toys, and musical instruments; and food, beverage, and fresh produce. It also provides gifts, flowers, and plants; nutritional supplements, healthcare services, and other healthcare equipment; books, e-books, music, movie, and other media products; and virtual goods, such as online travel agency, attraction tickets, and prepaid phone and game cards, as well as industrial products and installation and maintenance services. In addition, the company offers an online marketplace for third-party merchants to sell products to customers; and transaction processing and billing and other services. Further, it provides online marketing services for suppliers, third-party merchants, and other business partners; supply chain and logistics services for various industries; and consumer financing services to individual customers, as well as online-to-offline solutions. JD.com, Inc. offers its products through its website jd.com and mobile apps, as well as directly to customers. As of December 31, 2019, JD.com, Inc. operated fulfillment centers in seven cities; and 700 warehouses in 89 cities covering various counties and districts. The company has strategic cooperation agreement with Tencent Holdings Limited. JD.com, Inc. was founded in 1998 and is headquartered in Beijing, China.\",\n",
              " 'longName': 'JD.com, Inc.',\n",
              " 'market': 'us_market',\n",
              " 'marketCap': 137660874752,\n",
              " 'maxAge': 1,\n",
              " 'maxSupply': None,\n",
              " 'messageBoardId': 'finmb_36273923',\n",
              " 'morningStarOverallRating': None,\n",
              " 'morningStarRiskRating': None,\n",
              " 'mostRecentQuarter': 1609372800,\n",
              " 'navPrice': None,\n",
              " 'netIncomeToCommon': None,\n",
              " 'nextFiscalYearEnd': 1672444800,\n",
              " 'open': 86.02,\n",
              " 'openInterest': None,\n",
              " 'payoutRatio': 0,\n",
              " 'pegRatio': 46.57,\n",
              " 'previousClose': 90.01,\n",
              " 'priceHint': 2,\n",
              " 'priceToBook': 12.504837,\n",
              " 'priceToSalesTrailing12Months': None,\n",
              " 'profitMargins': 0.06624,\n",
              " 'quoteType': 'EQUITY',\n",
              " 'regularMarketDayHigh': 86.19,\n",
              " 'regularMarketDayLow': 83.28,\n",
              " 'regularMarketOpen': 86.02,\n",
              " 'regularMarketPreviousClose': 90.01,\n",
              " 'regularMarketPrice': 86.02,\n",
              " 'regularMarketVolume': 24763898,\n",
              " 'revenueQuarterlyGrowth': None,\n",
              " 'sector': 'Consumer Cyclical',\n",
              " 'sharesOutstanding': 1551750016,\n",
              " 'sharesPercentSharesOut': 0.018099999,\n",
              " 'sharesShort': 28051819,\n",
              " 'sharesShortPreviousMonthDate': 1611878400,\n",
              " 'sharesShortPriorMonth': 30242872,\n",
              " 'shortName': 'JD.com, Inc.',\n",
              " 'shortPercentOfFloat': None,\n",
              " 'shortRatio': 3.02,\n",
              " 'startDate': None,\n",
              " 'strikePrice': None,\n",
              " 'symbol': 'JD',\n",
              " 'threeYearAverageReturn': None,\n",
              " 'toCurrency': None,\n",
              " 'totalAssets': None,\n",
              " 'tradeable': False,\n",
              " 'trailingAnnualDividendRate': None,\n",
              " 'trailingAnnualDividendYield': None,\n",
              " 'trailingEps': 0.147,\n",
              " 'trailingPE': 571.5646,\n",
              " 'twoHundredDayAverage': 85.97964,\n",
              " 'volume': 24763898,\n",
              " 'volume24Hr': None,\n",
              " 'volumeAllCurrencies': None,\n",
              " 'website': 'http://www.jd.com',\n",
              " 'yield': None,\n",
              " 'ytdReturn': None,\n",
              " 'zip': '101111'}"
            ]
          },
          "metadata": {
            "tags": []
          },
          "execution_count": 45
        }
      ]
    },
    {
      "cell_type": "code",
      "metadata": {
        "colab": {
          "base_uri": "https://localhost:8080/",
          "height": 235
        },
        "id": "vIVBK4fU6Wr3",
        "outputId": "ef361d7a-0c08-4f8e-bdb5-bbf77f6882fc"
      },
      "source": [
        "stock.get_recommendations().iloc[-5:]"
      ],
      "execution_count": 52,
      "outputs": [
        {
          "output_type": "execute_result",
          "data": {
            "text/html": [
              "<div>\n",
              "<style scoped>\n",
              "    .dataframe tbody tr th:only-of-type {\n",
              "        vertical-align: middle;\n",
              "    }\n",
              "\n",
              "    .dataframe tbody tr th {\n",
              "        vertical-align: top;\n",
              "    }\n",
              "\n",
              "    .dataframe thead th {\n",
              "        text-align: right;\n",
              "    }\n",
              "</style>\n",
              "<table border=\"1\" class=\"dataframe\">\n",
              "  <thead>\n",
              "    <tr style=\"text-align: right;\">\n",
              "      <th></th>\n",
              "      <th>Firm</th>\n",
              "      <th>To Grade</th>\n",
              "      <th>From Grade</th>\n",
              "      <th>Action</th>\n",
              "    </tr>\n",
              "    <tr>\n",
              "      <th>Date</th>\n",
              "      <th></th>\n",
              "      <th></th>\n",
              "      <th></th>\n",
              "      <th></th>\n",
              "    </tr>\n",
              "  </thead>\n",
              "  <tbody>\n",
              "    <tr>\n",
              "      <th>2020-05-19 16:29:03</th>\n",
              "      <td>CFRA</td>\n",
              "      <td>Buy</td>\n",
              "      <td></td>\n",
              "      <td>main</td>\n",
              "    </tr>\n",
              "    <tr>\n",
              "      <th>2020-06-30 13:31:33</th>\n",
              "      <td>Mizuho</td>\n",
              "      <td>Buy</td>\n",
              "      <td></td>\n",
              "      <td>main</td>\n",
              "    </tr>\n",
              "    <tr>\n",
              "      <th>2021-01-05 11:46:40</th>\n",
              "      <td>Stifel</td>\n",
              "      <td>Buy</td>\n",
              "      <td>Hold</td>\n",
              "      <td>up</td>\n",
              "    </tr>\n",
              "    <tr>\n",
              "      <th>2021-01-25 13:54:34</th>\n",
              "      <td>Bernstein</td>\n",
              "      <td>Outperform</td>\n",
              "      <td></td>\n",
              "      <td>init</td>\n",
              "    </tr>\n",
              "    <tr>\n",
              "      <th>2021-03-12 16:11:36</th>\n",
              "      <td>HSBC</td>\n",
              "      <td>Buy</td>\n",
              "      <td></td>\n",
              "      <td>main</td>\n",
              "    </tr>\n",
              "  </tbody>\n",
              "</table>\n",
              "</div>"
            ],
            "text/plain": [
              "                          Firm    To Grade From Grade Action\n",
              "Date                                                        \n",
              "2020-05-19 16:29:03       CFRA         Buy              main\n",
              "2020-06-30 13:31:33     Mizuho         Buy              main\n",
              "2021-01-05 11:46:40     Stifel         Buy       Hold     up\n",
              "2021-01-25 13:54:34  Bernstein  Outperform              init\n",
              "2021-03-12 16:11:36       HSBC         Buy              main"
            ]
          },
          "metadata": {
            "tags": []
          },
          "execution_count": 52
        }
      ]
    },
    {
      "cell_type": "code",
      "metadata": {
        "colab": {
          "base_uri": "https://localhost:8080/",
          "height": 609
        },
        "id": "8KK_cSRr7cxQ",
        "outputId": "12f9018e-3ef3-4f12-957f-047e40ab2fa8"
      },
      "source": [
        "stock.option_chain().calls"
      ],
      "execution_count": 62,
      "outputs": [
        {
          "output_type": "execute_result",
          "data": {
            "text/html": [
              "<div>\n",
              "<style scoped>\n",
              "    .dataframe tbody tr th:only-of-type {\n",
              "        vertical-align: middle;\n",
              "    }\n",
              "\n",
              "    .dataframe tbody tr th {\n",
              "        vertical-align: top;\n",
              "    }\n",
              "\n",
              "    .dataframe thead th {\n",
              "        text-align: right;\n",
              "    }\n",
              "</style>\n",
              "<table border=\"1\" class=\"dataframe\">\n",
              "  <thead>\n",
              "    <tr style=\"text-align: right;\">\n",
              "      <th></th>\n",
              "      <th>contractSymbol</th>\n",
              "      <th>lastTradeDate</th>\n",
              "      <th>strike</th>\n",
              "      <th>lastPrice</th>\n",
              "      <th>bid</th>\n",
              "      <th>ask</th>\n",
              "      <th>change</th>\n",
              "      <th>percentChange</th>\n",
              "      <th>volume</th>\n",
              "      <th>openInterest</th>\n",
              "      <th>impliedVolatility</th>\n",
              "      <th>inTheMoney</th>\n",
              "      <th>contractSize</th>\n",
              "      <th>currency</th>\n",
              "    </tr>\n",
              "  </thead>\n",
              "  <tbody>\n",
              "    <tr>\n",
              "      <th>0</th>\n",
              "      <td>JD210319C00035000</td>\n",
              "      <td>2021-02-23 14:31:00</td>\n",
              "      <td>35.0</td>\n",
              "      <td>60.20</td>\n",
              "      <td>47.15</td>\n",
              "      <td>50.90</td>\n",
              "      <td>0.00</td>\n",
              "      <td>0.000000</td>\n",
              "      <td>1</td>\n",
              "      <td>20</td>\n",
              "      <td>2.437504</td>\n",
              "      <td>True</td>\n",
              "      <td>REGULAR</td>\n",
              "      <td>USD</td>\n",
              "    </tr>\n",
              "    <tr>\n",
              "      <th>1</th>\n",
              "      <td>JD210319C00040000</td>\n",
              "      <td>2021-03-11 19:35:13</td>\n",
              "      <td>40.0</td>\n",
              "      <td>49.90</td>\n",
              "      <td>43.05</td>\n",
              "      <td>44.95</td>\n",
              "      <td>0.00</td>\n",
              "      <td>0.000000</td>\n",
              "      <td>2</td>\n",
              "      <td>29</td>\n",
              "      <td>4.349614</td>\n",
              "      <td>True</td>\n",
              "      <td>REGULAR</td>\n",
              "      <td>USD</td>\n",
              "    </tr>\n",
              "    <tr>\n",
              "      <th>2</th>\n",
              "      <td>JD210319C00045000</td>\n",
              "      <td>2021-03-09 17:40:26</td>\n",
              "      <td>45.0</td>\n",
              "      <td>44.30</td>\n",
              "      <td>37.50</td>\n",
              "      <td>40.70</td>\n",
              "      <td>0.00</td>\n",
              "      <td>0.000000</td>\n",
              "      <td>2</td>\n",
              "      <td>64</td>\n",
              "      <td>2.406254</td>\n",
              "      <td>True</td>\n",
              "      <td>REGULAR</td>\n",
              "      <td>USD</td>\n",
              "    </tr>\n",
              "    <tr>\n",
              "      <th>3</th>\n",
              "      <td>JD210319C00050000</td>\n",
              "      <td>2021-03-10 18:33:01</td>\n",
              "      <td>50.0</td>\n",
              "      <td>33.50</td>\n",
              "      <td>33.00</td>\n",
              "      <td>35.25</td>\n",
              "      <td>-5.75</td>\n",
              "      <td>-14.649682</td>\n",
              "      <td>16</td>\n",
              "      <td>89</td>\n",
              "      <td>2.117192</td>\n",
              "      <td>True</td>\n",
              "      <td>REGULAR</td>\n",
              "      <td>USD</td>\n",
              "    </tr>\n",
              "    <tr>\n",
              "      <th>4</th>\n",
              "      <td>JD210319C00055000</td>\n",
              "      <td>2021-03-04 14:30:23</td>\n",
              "      <td>55.0</td>\n",
              "      <td>33.50</td>\n",
              "      <td>27.45</td>\n",
              "      <td>30.45</td>\n",
              "      <td>0.00</td>\n",
              "      <td>0.000000</td>\n",
              "      <td>1</td>\n",
              "      <td>68</td>\n",
              "      <td>3.080080</td>\n",
              "      <td>True</td>\n",
              "      <td>REGULAR</td>\n",
              "      <td>USD</td>\n",
              "    </tr>\n",
              "    <tr>\n",
              "      <th>...</th>\n",
              "      <td>...</td>\n",
              "      <td>...</td>\n",
              "      <td>...</td>\n",
              "      <td>...</td>\n",
              "      <td>...</td>\n",
              "      <td>...</td>\n",
              "      <td>...</td>\n",
              "      <td>...</td>\n",
              "      <td>...</td>\n",
              "      <td>...</td>\n",
              "      <td>...</td>\n",
              "      <td>...</td>\n",
              "      <td>...</td>\n",
              "      <td>...</td>\n",
              "    </tr>\n",
              "    <tr>\n",
              "      <th>56</th>\n",
              "      <td>JD210319C00135000</td>\n",
              "      <td>2021-03-12 19:11:20</td>\n",
              "      <td>135.0</td>\n",
              "      <td>0.05</td>\n",
              "      <td>0.00</td>\n",
              "      <td>0.05</td>\n",
              "      <td>0.01</td>\n",
              "      <td>25.000006</td>\n",
              "      <td>138</td>\n",
              "      <td>4632</td>\n",
              "      <td>1.531252</td>\n",
              "      <td>False</td>\n",
              "      <td>REGULAR</td>\n",
              "      <td>USD</td>\n",
              "    </tr>\n",
              "    <tr>\n",
              "      <th>57</th>\n",
              "      <td>JD210319C00140000</td>\n",
              "      <td>2021-03-11 16:50:46</td>\n",
              "      <td>140.0</td>\n",
              "      <td>0.03</td>\n",
              "      <td>0.02</td>\n",
              "      <td>0.08</td>\n",
              "      <td>0.00</td>\n",
              "      <td>0.000000</td>\n",
              "      <td>423</td>\n",
              "      <td>548</td>\n",
              "      <td>1.773439</td>\n",
              "      <td>False</td>\n",
              "      <td>REGULAR</td>\n",
              "      <td>USD</td>\n",
              "    </tr>\n",
              "    <tr>\n",
              "      <th>58</th>\n",
              "      <td>JD210319C00145000</td>\n",
              "      <td>2021-03-11 15:27:44</td>\n",
              "      <td>145.0</td>\n",
              "      <td>0.06</td>\n",
              "      <td>0.00</td>\n",
              "      <td>0.04</td>\n",
              "      <td>0.00</td>\n",
              "      <td>0.000000</td>\n",
              "      <td>46</td>\n",
              "      <td>509</td>\n",
              "      <td>1.703126</td>\n",
              "      <td>False</td>\n",
              "      <td>REGULAR</td>\n",
              "      <td>USD</td>\n",
              "    </tr>\n",
              "    <tr>\n",
              "      <th>59</th>\n",
              "      <td>JD210319C00150000</td>\n",
              "      <td>2021-03-09 15:54:59</td>\n",
              "      <td>150.0</td>\n",
              "      <td>0.06</td>\n",
              "      <td>0.01</td>\n",
              "      <td>0.39</td>\n",
              "      <td>0.00</td>\n",
              "      <td>0.000000</td>\n",
              "      <td>7</td>\n",
              "      <td>20</td>\n",
              "      <td>2.359379</td>\n",
              "      <td>False</td>\n",
              "      <td>REGULAR</td>\n",
              "      <td>USD</td>\n",
              "    </tr>\n",
              "    <tr>\n",
              "      <th>60</th>\n",
              "      <td>JD210319C00155000</td>\n",
              "      <td>2021-03-10 20:27:39</td>\n",
              "      <td>155.0</td>\n",
              "      <td>0.05</td>\n",
              "      <td>0.01</td>\n",
              "      <td>0.03</td>\n",
              "      <td>0.00</td>\n",
              "      <td>0.000000</td>\n",
              "      <td>2</td>\n",
              "      <td>533</td>\n",
              "      <td>1.875001</td>\n",
              "      <td>False</td>\n",
              "      <td>REGULAR</td>\n",
              "      <td>USD</td>\n",
              "    </tr>\n",
              "  </tbody>\n",
              "</table>\n",
              "<p>61 rows × 14 columns</p>\n",
              "</div>"
            ],
            "text/plain": [
              "       contractSymbol       lastTradeDate  ...  contractSize  currency\n",
              "0   JD210319C00035000 2021-02-23 14:31:00  ...       REGULAR       USD\n",
              "1   JD210319C00040000 2021-03-11 19:35:13  ...       REGULAR       USD\n",
              "2   JD210319C00045000 2021-03-09 17:40:26  ...       REGULAR       USD\n",
              "3   JD210319C00050000 2021-03-10 18:33:01  ...       REGULAR       USD\n",
              "4   JD210319C00055000 2021-03-04 14:30:23  ...       REGULAR       USD\n",
              "..                ...                 ...  ...           ...       ...\n",
              "56  JD210319C00135000 2021-03-12 19:11:20  ...       REGULAR       USD\n",
              "57  JD210319C00140000 2021-03-11 16:50:46  ...       REGULAR       USD\n",
              "58  JD210319C00145000 2021-03-11 15:27:44  ...       REGULAR       USD\n",
              "59  JD210319C00150000 2021-03-09 15:54:59  ...       REGULAR       USD\n",
              "60  JD210319C00155000 2021-03-10 20:27:39  ...       REGULAR       USD\n",
              "\n",
              "[61 rows x 14 columns]"
            ]
          },
          "metadata": {
            "tags": []
          },
          "execution_count": 62
        }
      ]
    },
    {
      "cell_type": "code",
      "metadata": {
        "colab": {
          "base_uri": "https://localhost:8080/"
        },
        "id": "cUw5LJbp8Vqf",
        "outputId": "8cf0f8e4-1f49-41f7-ca1d-d6c3110aa0ee"
      },
      "source": [
        "pip install yahoo_earnings_calendar"
      ],
      "execution_count": 63,
      "outputs": [
        {
          "output_type": "stream",
          "text": [
            "Collecting yahoo_earnings_calendar\n",
            "  Downloading https://files.pythonhosted.org/packages/8e/c5/56a980977341b9166284007b2d2f81b6cbdfb643aec71e46994c6d014bf1/yahoo_earnings_calendar-0.6.0-py3-none-any.whl\n",
            "Requirement already satisfied: requests in /usr/local/lib/python3.7/dist-packages (from yahoo_earnings_calendar) (2.23.0)\n",
            "Requirement already satisfied: urllib3!=1.25.0,!=1.25.1,<1.26,>=1.21.1 in /usr/local/lib/python3.7/dist-packages (from requests->yahoo_earnings_calendar) (1.24.3)\n",
            "Requirement already satisfied: idna<3,>=2.5 in /usr/local/lib/python3.7/dist-packages (from requests->yahoo_earnings_calendar) (2.10)\n",
            "Requirement already satisfied: certifi>=2017.4.17 in /usr/local/lib/python3.7/dist-packages (from requests->yahoo_earnings_calendar) (2020.12.5)\n",
            "Requirement already satisfied: chardet<4,>=3.0.2 in /usr/local/lib/python3.7/dist-packages (from requests->yahoo_earnings_calendar) (3.0.4)\n",
            "Installing collected packages: yahoo-earnings-calendar\n",
            "Successfully installed yahoo-earnings-calendar-0.6.0\n"
          ],
          "name": "stdout"
        }
      ]
    },
    {
      "cell_type": "code",
      "metadata": {
        "id": "vaaDPTen-8wd"
      },
      "source": [
        "import yfinance\n",
        "import numpy as np\n",
        "import pandas as pd\n",
        "import matplotlib.pyplot as plt\n",
        "import matplotlib.style as style\n",
        "import seaborn as sns\n",
        "from yahoo_earnings_calendar import YahooEarningsCalendar\n",
        "\n",
        "%matplotlib inline\n",
        "style.use(\"fivethirtyeight\")"
      ],
      "execution_count": 65,
      "outputs": []
    },
    {
      "cell_type": "code",
      "metadata": {
        "colab": {
          "base_uri": "https://localhost:8080/",
          "height": 343
        },
        "id": "0ohk9Ftb-tZ2",
        "outputId": "fac7df4a-39b9-4fbf-e22f-c4fbe0168653"
      },
      "source": [
        "date_to = dt.datetime.now()\n",
        "date_from = dt.datetime(2021, 2, 14)\n",
        "\n",
        "earnings = yec.earnings_between(date_from, date_to)\n",
        "earnings_df = pd.DataFrame.from_records(earnings)\n",
        "print(len(earnings_df))\n",
        "earnings_df.head()"
      ],
      "execution_count": 71,
      "outputs": [
        {
          "output_type": "stream",
          "text": [
            "3093\n"
          ],
          "name": "stdout"
        },
        {
          "output_type": "execute_result",
          "data": {
            "text/html": [
              "<div>\n",
              "<style scoped>\n",
              "    .dataframe tbody tr th:only-of-type {\n",
              "        vertical-align: middle;\n",
              "    }\n",
              "\n",
              "    .dataframe tbody tr th {\n",
              "        vertical-align: top;\n",
              "    }\n",
              "\n",
              "    .dataframe thead th {\n",
              "        text-align: right;\n",
              "    }\n",
              "</style>\n",
              "<table border=\"1\" class=\"dataframe\">\n",
              "  <thead>\n",
              "    <tr style=\"text-align: right;\">\n",
              "      <th></th>\n",
              "      <th>ticker</th>\n",
              "      <th>companyshortname</th>\n",
              "      <th>startdatetime</th>\n",
              "      <th>startdatetimetype</th>\n",
              "      <th>epsestimate</th>\n",
              "      <th>epsactual</th>\n",
              "      <th>epssurprisepct</th>\n",
              "      <th>timeZoneShortName</th>\n",
              "      <th>gmtOffsetMilliSeconds</th>\n",
              "      <th>quoteType</th>\n",
              "    </tr>\n",
              "  </thead>\n",
              "  <tbody>\n",
              "    <tr>\n",
              "      <th>0</th>\n",
              "      <td>ATSKF</td>\n",
              "      <td>Allied Telesis Holdings K.K.</td>\n",
              "      <td>2021-02-15T00:00:00.000Z</td>\n",
              "      <td>TNS</td>\n",
              "      <td>NaN</td>\n",
              "      <td>7.77</td>\n",
              "      <td>NaN</td>\n",
              "      <td>EDT</td>\n",
              "      <td>0</td>\n",
              "      <td>EQUITY</td>\n",
              "    </tr>\n",
              "    <tr>\n",
              "      <th>1</th>\n",
              "      <td>OMAB</td>\n",
              "      <td>Grupo Aeroportuario del Centro Norte, S.A.B. d...</td>\n",
              "      <td>2021-02-15T00:00:00.000Z</td>\n",
              "      <td>TNS</td>\n",
              "      <td>0.30</td>\n",
              "      <td>0.24</td>\n",
              "      <td>-21.71</td>\n",
              "      <td>EDT</td>\n",
              "      <td>0</td>\n",
              "      <td>EQUITY</td>\n",
              "    </tr>\n",
              "    <tr>\n",
              "      <th>2</th>\n",
              "      <td>OYIEF</td>\n",
              "      <td>Ocean Yield ASA</td>\n",
              "      <td>2021-02-15T00:00:00.000Z</td>\n",
              "      <td>TNS</td>\n",
              "      <td>0.08</td>\n",
              "      <td>0.12</td>\n",
              "      <td>44.58</td>\n",
              "      <td>EDT</td>\n",
              "      <td>0</td>\n",
              "      <td>EQUITY</td>\n",
              "    </tr>\n",
              "    <tr>\n",
              "      <th>3</th>\n",
              "      <td>APLIF</td>\n",
              "      <td>Appili Therapeutics Inc.</td>\n",
              "      <td>2021-02-15T00:00:00.000Z</td>\n",
              "      <td>TNS</td>\n",
              "      <td>-0.04</td>\n",
              "      <td>-0.07</td>\n",
              "      <td>-84.21</td>\n",
              "      <td>EDT</td>\n",
              "      <td>0</td>\n",
              "      <td>EQUITY</td>\n",
              "    </tr>\n",
              "    <tr>\n",
              "      <th>4</th>\n",
              "      <td>AKRTF</td>\n",
              "      <td>Aker Solutions ASA</td>\n",
              "      <td>2021-02-15T00:00:00.000Z</td>\n",
              "      <td>TNS</td>\n",
              "      <td>0.02</td>\n",
              "      <td>-0.74</td>\n",
              "      <td>-5033.33</td>\n",
              "      <td>EDT</td>\n",
              "      <td>0</td>\n",
              "      <td>EQUITY</td>\n",
              "    </tr>\n",
              "  </tbody>\n",
              "</table>\n",
              "</div>"
            ],
            "text/plain": [
              "  ticker  ... quoteType\n",
              "0  ATSKF  ...    EQUITY\n",
              "1   OMAB  ...    EQUITY\n",
              "2  OYIEF  ...    EQUITY\n",
              "3  APLIF  ...    EQUITY\n",
              "4  AKRTF  ...    EQUITY\n",
              "\n",
              "[5 rows x 10 columns]"
            ]
          },
          "metadata": {
            "tags": []
          },
          "execution_count": 71
        }
      ]
    },
    {
      "cell_type": "code",
      "metadata": {
        "colab": {
          "base_uri": "https://localhost:8080/",
          "height": 571
        },
        "id": "O7epluko-0qn",
        "outputId": "ef093022-4d9d-4c21-816d-c268808f9e20"
      },
      "source": [
        "surprise_top10 = (earnings_df.loc[~earnings_df.epsactual.isnull()]\n",
        "                             .sort_values(\"epssurprisepct\", ascending=False)\n",
        "                             .head(10))\n",
        "\n",
        "fig, ax = plt.subplots(figsize=(12, 7))\n",
        "ax = sns.barplot(\"ticker\", \"epssurprisepct\", data=surprise_top10, ax=ax)\n",
        "ax.axhline(0, color=\"black\", alpha=0.5)\n",
        "ax.set_title(\"EPS Surprise Pct Top 10\", loc=\"left\", fontdict={\"fontsize\": 20})\n"
      ],
      "execution_count": 72,
      "outputs": [
        {
          "output_type": "stream",
          "text": [
            "/usr/local/lib/python3.7/dist-packages/seaborn/_decorators.py:43: FutureWarning: Pass the following variables as keyword args: x, y. From version 0.12, the only valid positional argument will be `data`, and passing other arguments without an explicit keyword will result in an error or misinterpretation.\n",
            "  FutureWarning\n"
          ],
          "name": "stderr"
        },
        {
          "output_type": "execute_result",
          "data": {
            "text/plain": [
              "Text(0.0, 1.0, 'EPS Surprise Pct Top 10')"
            ]
          },
          "metadata": {
            "tags": []
          },
          "execution_count": 72
        },
        {
          "output_type": "display_data",
          "data": {
            "image/png": "[encoded data removed]",
            "text/plain": [
              "<Figure size 864x504 with 1 Axes>"
            ]
          },
          "metadata": {
            "tags": []
          }
        }
      ]
    },
    {
      "cell_type": "code",
      "metadata": {
        "colab": {
          "base_uri": "https://localhost:8080/",
          "height": 549
        },
        "id": "JykBKuOnQZUq",
        "outputId": "3ae1e54a-c56b-49a5-e1f9-9e4a18de1d25"
      },
      "source": [
        "symbol = \"TSLA\"\n",
        "earnings = yec.get_earnings_of(symbol)\n",
        "earnings_df = pd.DataFrame.from_records(earnings)\n",
        "\n",
        "earnings_df.head(10)"
      ],
      "execution_count": 73,
      "outputs": [
        {
          "output_type": "execute_result",
          "data": {
            "text/html": [
              "<div>\n",
              "<style scoped>\n",
              "    .dataframe tbody tr th:only-of-type {\n",
              "        vertical-align: middle;\n",
              "    }\n",
              "\n",
              "    .dataframe tbody tr th {\n",
              "        vertical-align: top;\n",
              "    }\n",
              "\n",
              "    .dataframe thead th {\n",
              "        text-align: right;\n",
              "    }\n",
              "</style>\n",
              "<table border=\"1\" class=\"dataframe\">\n",
              "  <thead>\n",
              "    <tr style=\"text-align: right;\">\n",
              "      <th></th>\n",
              "      <th>ticker</th>\n",
              "      <th>companyshortname</th>\n",
              "      <th>startdatetime</th>\n",
              "      <th>startdatetimetype</th>\n",
              "      <th>epsestimate</th>\n",
              "      <th>epsactual</th>\n",
              "      <th>epssurprisepct</th>\n",
              "      <th>timeZoneShortName</th>\n",
              "      <th>gmtOffsetMilliSeconds</th>\n",
              "      <th>quoteType</th>\n",
              "    </tr>\n",
              "  </thead>\n",
              "  <tbody>\n",
              "    <tr>\n",
              "      <th>0</th>\n",
              "      <td>TSLA</td>\n",
              "      <td>Tesla Inc</td>\n",
              "      <td>2022-01-25T21:00:00.000Z</td>\n",
              "      <td>AMC</td>\n",
              "      <td>NaN</td>\n",
              "      <td>NaN</td>\n",
              "      <td>NaN</td>\n",
              "      <td>EDT</td>\n",
              "      <td>-14400000</td>\n",
              "      <td>EQUITY</td>\n",
              "    </tr>\n",
              "    <tr>\n",
              "      <th>1</th>\n",
              "      <td>TSLA</td>\n",
              "      <td>Tesla Inc</td>\n",
              "      <td>2021-10-19T10:59:00.000Z</td>\n",
              "      <td>TNS</td>\n",
              "      <td>NaN</td>\n",
              "      <td>NaN</td>\n",
              "      <td>NaN</td>\n",
              "      <td>EDT</td>\n",
              "      <td>-14400000</td>\n",
              "      <td>EQUITY</td>\n",
              "    </tr>\n",
              "    <tr>\n",
              "      <th>2</th>\n",
              "      <td>TSLA</td>\n",
              "      <td>Tesla Inc</td>\n",
              "      <td>2021-07-20T10:59:00.000Z</td>\n",
              "      <td>TNS</td>\n",
              "      <td>NaN</td>\n",
              "      <td>NaN</td>\n",
              "      <td>NaN</td>\n",
              "      <td>EDT</td>\n",
              "      <td>-14400000</td>\n",
              "      <td>EQUITY</td>\n",
              "    </tr>\n",
              "    <tr>\n",
              "      <th>3</th>\n",
              "      <td>TSLA</td>\n",
              "      <td>Tesla Inc</td>\n",
              "      <td>2021-04-27T10:59:00.000Z</td>\n",
              "      <td>TNS</td>\n",
              "      <td>0.75</td>\n",
              "      <td>NaN</td>\n",
              "      <td>NaN</td>\n",
              "      <td>EDT</td>\n",
              "      <td>-14400000</td>\n",
              "      <td>EQUITY</td>\n",
              "    </tr>\n",
              "    <tr>\n",
              "      <th>4</th>\n",
              "      <td>TSLA</td>\n",
              "      <td>Tesla, Inc.</td>\n",
              "      <td>2021-01-27T00:00:00.000Z</td>\n",
              "      <td>TNS</td>\n",
              "      <td>1.03</td>\n",
              "      <td>0.80</td>\n",
              "      <td>-22.48</td>\n",
              "      <td>EDT</td>\n",
              "      <td>0</td>\n",
              "      <td>EQUITY</td>\n",
              "    </tr>\n",
              "    <tr>\n",
              "      <th>5</th>\n",
              "      <td>TSLA</td>\n",
              "      <td>Tesla, Inc.</td>\n",
              "      <td>2020-10-21T00:00:00.000Z</td>\n",
              "      <td>TNS</td>\n",
              "      <td>0.58</td>\n",
              "      <td>0.76</td>\n",
              "      <td>30.81</td>\n",
              "      <td>EDT</td>\n",
              "      <td>0</td>\n",
              "      <td>EQUITY</td>\n",
              "    </tr>\n",
              "    <tr>\n",
              "      <th>6</th>\n",
              "      <td>TSLA</td>\n",
              "      <td>Tesla, Inc.</td>\n",
              "      <td>2020-07-22T00:00:00.000Z</td>\n",
              "      <td>TNS</td>\n",
              "      <td>-0.04</td>\n",
              "      <td>0.44</td>\n",
              "      <td>1278.38</td>\n",
              "      <td>EDT</td>\n",
              "      <td>0</td>\n",
              "      <td>EQUITY</td>\n",
              "    </tr>\n",
              "    <tr>\n",
              "      <th>7</th>\n",
              "      <td>TSLA</td>\n",
              "      <td>Tesla, Inc.</td>\n",
              "      <td>2020-04-29T00:00:00.000Z</td>\n",
              "      <td>TNS</td>\n",
              "      <td>-0.06</td>\n",
              "      <td>0.23</td>\n",
              "      <td>456.25</td>\n",
              "      <td>EDT</td>\n",
              "      <td>0</td>\n",
              "      <td>EQUITY</td>\n",
              "    </tr>\n",
              "    <tr>\n",
              "      <th>8</th>\n",
              "      <td>TSLA</td>\n",
              "      <td>Tesla, Inc.</td>\n",
              "      <td>2020-01-29T00:00:00.000Z</td>\n",
              "      <td>TNS</td>\n",
              "      <td>0.35</td>\n",
              "      <td>0.41</td>\n",
              "      <td>19.42</td>\n",
              "      <td>EDT</td>\n",
              "      <td>0</td>\n",
              "      <td>EQUITY</td>\n",
              "    </tr>\n",
              "    <tr>\n",
              "      <th>9</th>\n",
              "      <td>TSLA</td>\n",
              "      <td>Tesla, Inc.</td>\n",
              "      <td>2019-10-23T00:00:00.000Z</td>\n",
              "      <td>TNS</td>\n",
              "      <td>-0.08</td>\n",
              "      <td>0.37</td>\n",
              "      <td>542.86</td>\n",
              "      <td>EDT</td>\n",
              "      <td>0</td>\n",
              "      <td>EQUITY</td>\n",
              "    </tr>\n",
              "  </tbody>\n",
              "</table>\n",
              "</div>"
            ],
            "text/plain": [
              "  ticker companyshortname  ... gmtOffsetMilliSeconds quoteType\n",
              "0   TSLA        Tesla Inc  ...             -14400000    EQUITY\n",
              "1   TSLA        Tesla Inc  ...             -14400000    EQUITY\n",
              "2   TSLA        Tesla Inc  ...             -14400000    EQUITY\n",
              "3   TSLA        Tesla Inc  ...             -14400000    EQUITY\n",
              "4   TSLA      Tesla, Inc.  ...                     0    EQUITY\n",
              "5   TSLA      Tesla, Inc.  ...                     0    EQUITY\n",
              "6   TSLA      Tesla, Inc.  ...                     0    EQUITY\n",
              "7   TSLA      Tesla, Inc.  ...                     0    EQUITY\n",
              "8   TSLA      Tesla, Inc.  ...                     0    EQUITY\n",
              "9   TSLA      Tesla, Inc.  ...                     0    EQUITY\n",
              "\n",
              "[10 rows x 10 columns]"
            ]
          },
          "metadata": {
            "tags": []
          },
          "execution_count": 73
        }
      ]
    },
    {
      "cell_type": "code",
      "metadata": {
        "colab": {
          "base_uri": "https://localhost:8080/",
          "height": 456
        },
        "id": "wVxqnfj6QwLz",
        "outputId": "742f60e3-7fd2-48e6-befd-044ebc24f2c5"
      },
      "source": [
        "# 从雅虎财经获取历史数据\n",
        "tsla = yfinance.Ticker(\"TSLA\")\n",
        "hist = tsla.history(period=\"max\")\n",
        "\n",
        "# 选择一部分样本\n",
        "date_from = dt.date(2017, 1, 1)\n",
        "date_to = dt.date(2020, 7, 1)\n",
        "\n",
        "# 清洗数据\n",
        "hist = hist[date_from:]\n",
        "earnings_df = earnings_df.assign(publish_date=lambda x: pd.to_datetime(x.startdatetime).dt.date)\n",
        "earnings_df = earnings_df[earnings_df[\"publish_date\"] >= date_from]\n",
        "earnings_df = earnings_df[earnings_df[\"publish_date\"] <= date_to]\n",
        "surprise = (earnings_df.filter([\"publish_date\", \"epssurprisepct\"])\n",
        "                       .sort_values(\"publish_date\", ascending=True)\n",
        "                       .reset_index(drop=True)\n",
        "                       )\n",
        "\n",
        "# 可视化\n",
        "ax = hist.Close.plot(figsize=(12, 7))\n",
        "text_ypos = np.linspace(200, 1400, len(surprise))\n",
        "\n",
        "for i, row in surprise.iterrows():\n",
        "    if row[\"epssurprisepct\"] > 0:\n",
        "        color = \"red\"\n",
        "    else:\n",
        "        color = \"green\"\n",
        "    ax.axvline(row[\"publish_date\"], color=color, linewidth=0.8, linestyle=\"--\")\n",
        "    ax.annotate(f\"{row['epssurprisepct']:.1f}%\", (row[\"publish_date\"], text_ypos[i]), ha=\"center\")\n",
        "\n",
        "ax.set_ylim(0, 1600)\n",
        "ax.axhline(color=\"black\", alpha=0.5)\n",
        "ax.set_xlabel(\"\")\n",
        "ax.set_ylabel(\"Surprise Percent\")\n",
        "ax.set_title(\"Does Earnings Surprise affect TSLA prices?\", loc=\"left\")\n"
      ],
      "execution_count": 85,
      "outputs": [
        {
          "output_type": "execute_result",
          "data": {
            "text/plain": [
              "Text(0.0, 1.0, 'Does Earnings Surprise affect TSLA prices?')"
            ]
          },
          "metadata": {
            "tags": []
          },
          "execution_count": 85
        },
        {
          "output_type": "display_data",
          "data": {
            "image/png": "[encoded data removed]",
            "text/plain": [
              "<Figure size 864x504 with 1 Axes>"
            ]
          },
          "metadata": {
            "tags": []
          }
        }
      ]
    },
    {
      "cell_type": "code",
      "metadata": {
        "id": "F0Q4rmrAQ6G5"
      },
      "source": [
        ""
      ],
      "execution_count": null,
      "outputs": []
    }
  ]
}